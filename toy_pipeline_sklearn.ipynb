{
 "cells": [
  {
   "cell_type": "code",
   "execution_count": 1,
   "metadata": {},
   "outputs": [],
   "source": [
    "\n",
    "import mleap.pyspark\n",
    "from mleap.pyspark.spark_support import SimpleSparkSerializer"
   ]
  },
  {
   "cell_type": "code",
   "execution_count": 2,
   "metadata": {},
   "outputs": [],
   "source": [
    "\n",
    "# This notebook creates and exports a sklearn pipeline to MLeap for deployment into production\n",
    "\n",
    "# MLeap allows data scientists and engineers to deploy machine learning pipelines from Spark and \n",
    "# Scikit-Learn to a portable format and execution engine.\n",
    "\n",
    "import pandas as pd\n",
    "\n",
    "from mleap.sklearn.pipeline import Pipeline\n",
    "from mleap.sklearn.preprocessing.data import FeatureExtractor, LabelEncoder, ReshapeArrayToN1\n",
    "from sklearn.preprocessing import OneHotEncoder"
   ]
  },
  {
   "cell_type": "code",
   "execution_count": 3,
   "metadata": {},
   "outputs": [],
   "source": [
    "\n",
    "data = pd.DataFrame(['a', 'b', 'c'], columns=['col_a'])\n",
    "\n",
    "categorical_features = ['col_a']\n",
    "\n",
    "feature_extractor_tf = FeatureExtractor(input_scalars=categorical_features, \n",
    "                                         output_vector='imputed_features', \n",
    "                                         output_vector_items=categorical_features)"
   ]
  },
  {
   "cell_type": "code",
   "execution_count": 4,
   "metadata": {},
   "outputs": [],
   "source": [
    "\n",
    "# Label Encoder for x1 Label \n",
    "label_encoder_tf = LabelEncoder(input_features=feature_extractor_tf.output_vector_items,\n",
    "                               output_features='{}_label_le'.format(categorical_features[0]))\n",
    "\n",
    "# Reshape the output of the LabelEncoder to N-by-1 array\n",
    "reshape_le_tf = ReshapeArrayToN1()\n"
   ]
  },
  {
   "cell_type": "code",
   "execution_count": 6,
   "metadata": {},
   "outputs": [
    {
     "ename": "AttributeError",
     "evalue": "'function' object has no attribute 'im_class'",
     "output_type": "error",
     "traceback": [
      "\u001b[0;31m---------------------------------------------------------------------------\u001b[0m",
      "\u001b[0;31mAttributeError\u001b[0m                            Traceback (most recent call last)",
      "\u001b[0;32m<ipython-input-6-c4d0180a552d>\u001b[0m in \u001b[0;36m<module>\u001b[0;34m()\u001b[0m\n\u001b[1;32m      2\u001b[0m \u001b[0;31m# Vector Assembler for x1 One Hot Encoder\u001b[0m\u001b[0;34m\u001b[0m\u001b[0;34m\u001b[0m\u001b[0m\n\u001b[1;32m      3\u001b[0m \u001b[0mone_hot_encoder_tf\u001b[0m \u001b[0;34m=\u001b[0m \u001b[0mOneHotEncoder\u001b[0m\u001b[0;34m(\u001b[0m\u001b[0msparse\u001b[0m\u001b[0;34m=\u001b[0m\u001b[0;32mFalse\u001b[0m\u001b[0;34m)\u001b[0m\u001b[0;34m\u001b[0m\u001b[0m\n\u001b[0;32m----> 4\u001b[0;31m \u001b[0mone_hot_encoder_tf\u001b[0m\u001b[0;34m.\u001b[0m\u001b[0mmlinit\u001b[0m\u001b[0;34m(\u001b[0m\u001b[0mprior_tf\u001b[0m \u001b[0;34m=\u001b[0m \u001b[0mlabel_encoder_tf\u001b[0m\u001b[0;34m)\u001b[0m\u001b[0;34m\u001b[0m\u001b[0m\n\u001b[0m\u001b[1;32m      5\u001b[0m \u001b[0;34m\u001b[0m\u001b[0m\n\u001b[1;32m      6\u001b[0m one_hot_encoder_pipeline_x0 = Pipeline([\n",
      "\u001b[0;32m~/anaconda3/lib/python3.6/site-packages/mleap/sklearn/preprocessing/data.py\u001b[0m in \u001b[0;36mmleap_init\u001b[0;34m(self, prior_tf, output_features)\u001b[0m\n\u001b[1;32m     88\u001b[0m         \u001b[0moutput_feature_name\u001b[0m \u001b[0;34m=\u001b[0m \u001b[0mprior_tf\u001b[0m\u001b[0;34m.\u001b[0m\u001b[0moutput_features\u001b[0m\u001b[0;34m\u001b[0m\u001b[0m\n\u001b[1;32m     89\u001b[0m \u001b[0;34m\u001b[0m\u001b[0m\n\u001b[0;32m---> 90\u001b[0;31m     \u001b[0mclass_name\u001b[0m \u001b[0;34m=\u001b[0m \u001b[0;34m\"{}\"\u001b[0m\u001b[0;34m.\u001b[0m\u001b[0mformat\u001b[0m\u001b[0;34m(\u001b[0m\u001b[0mself\u001b[0m\u001b[0;34m.\u001b[0m\u001b[0m__init__\u001b[0m\u001b[0;34m.\u001b[0m\u001b[0mim_class\u001b[0m\u001b[0;34m)\u001b[0m\u001b[0;34m.\u001b[0m\u001b[0msplit\u001b[0m\u001b[0;34m(\u001b[0m\u001b[0;34m'.'\u001b[0m\u001b[0;34m)\u001b[0m\u001b[0;34m[\u001b[0m\u001b[0;34m-\u001b[0m\u001b[0;36m1\u001b[0m\u001b[0;34m]\u001b[0m\u001b[0;34m.\u001b[0m\u001b[0mreplace\u001b[0m\u001b[0;34m(\u001b[0m\u001b[0;34m'>'\u001b[0m\u001b[0;34m,\u001b[0m\u001b[0;34m''\u001b[0m\u001b[0;34m)\u001b[0m\u001b[0;34m.\u001b[0m\u001b[0mreplace\u001b[0m\u001b[0;34m(\u001b[0m\u001b[0;34m\"'\"\u001b[0m\u001b[0;34m,\u001b[0m\u001b[0;34m''\u001b[0m\u001b[0;34m)\u001b[0m\u001b[0;34m\u001b[0m\u001b[0m\n\u001b[0m\u001b[1;32m     91\u001b[0m \u001b[0;34m\u001b[0m\u001b[0m\n\u001b[1;32m     92\u001b[0m     \u001b[0;32mif\u001b[0m \u001b[0moutput_features\u001b[0m \u001b[0;32mis\u001b[0m \u001b[0;32mnot\u001b[0m \u001b[0;32mNone\u001b[0m\u001b[0;34m:\u001b[0m\u001b[0;34m\u001b[0m\u001b[0m\n",
      "\u001b[0;31mAttributeError\u001b[0m: 'function' object has no attribute 'im_class'"
     ]
    }
   ],
   "source": [
    "\n",
    "# Vector Assembler for x1 One Hot Encoder\n",
    "one_hot_encoder_tf = OneHotEncoder(sparse=False)\n",
    "one_hot_encoder_tf.mlinit(prior_tf = label_encoder_tf, \n",
    "                          output_features = '{}_label_one_hot_encoded'.format(categorical_features[0]))\n",
    "\n",
    "one_hot_encoder_pipeline_x0 = Pipeline([\n",
    "                                         (feature_extractor_tf.name, feature_extractor_tf),\n",
    "                                         (label_encoder_tf.name, label_encoder_tf),\n",
    "                                         (reshape_le_tf.name, reshape_le_tf),\n",
    "                                         (one_hot_encoder_tf.name, one_hot_encoder_tf)\n",
    "                                        ])"
   ]
  },
  {
   "cell_type": "code",
   "execution_count": null,
   "metadata": {},
   "outputs": [],
   "source": [
    "\n",
    "one_hot_encoder_pipeline_x0.mlinit()\n",
    "one_hot_encoder_pipeline_x0.fit_transform(data)\n",
    "one_hot_encoder_pipeline_x0.serialize_to_bundle('/tmp', 'mleap-scikit-test-pipeline', init=True)\n"
   ]
  },
  {
   "cell_type": "code",
   "execution_count": null,
   "metadata": {},
   "outputs": [],
   "source": []
  }
 ],
 "metadata": {
  "kernelspec": {
   "display_name": "Python 3",
   "language": "python",
   "name": "python3"
  },
  "language_info": {
   "codemirror_mode": {
    "name": "ipython",
    "version": 3
   },
   "file_extension": ".py",
   "mimetype": "text/x-python",
   "name": "python",
   "nbconvert_exporter": "python",
   "pygments_lexer": "ipython3",
   "version": "3.6.5"
  }
 },
 "nbformat": 4,
 "nbformat_minor": 2
}
