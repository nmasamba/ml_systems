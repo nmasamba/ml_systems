{
 "cells": [
  {
   "cell_type": "code",
   "execution_count": 1,
   "metadata": {},
   "outputs": [],
   "source": [
    "\n",
    "import mleap.pyspark\n",
    "from mleap.pyspark.spark_support import SimpleSparkSerializer"
   ]
  },
  {
   "cell_type": "code",
   "execution_count": 2,
   "metadata": {},
   "outputs": [],
   "source": [
    "\n",
    "# This notebook creates and exports a sklearn pipeline to MLeap for deployment into production\n",
    "\n",
    "# MLeap allows data scientists and engineers to deploy machine learning pipelines from Spark and \n",
    "# Scikit-Learn to a portable format and execution engine.\n",
    "\n",
    "import pandas as pd\n",
    "\n",
    "from mleap.sklearn.pipeline import Pipeline\n",
    "from mleap.sklearn.preprocessing.data import FeatureExtractor, LabelEncoder, ReshapeArrayToN1\n",
    "from sklearn.preprocessing import OneHotEncoder"
   ]
  },
  {
   "cell_type": "code",
   "execution_count": 3,
   "metadata": {},
   "outputs": [],
   "source": [
    "\n",
    "data = pd.DataFrame(['a', 'b', 'c'], columns=['col_a'])\n",
    "\n",
    "categorical_features = ['col_a']\n",
    "\n",
    "feature_extractor_tf = FeatureExtractor(input_scalars=categorical_features, \n",
    "                                         output_vector='imputed_features', \n",
    "                                         output_vector_items=categorical_features)"
   ]
  },
  {
   "cell_type": "code",
   "execution_count": 4,
   "metadata": {},
   "outputs": [],
   "source": [
    "\n",
    "# Label Encoder for x1 Label \n",
    "label_encoder_tf = LabelEncoder(input_features=feature_extractor_tf.output_vector_items,\n",
    "                               output_features='{}_label_le'.format(categorical_features[0]))\n",
    "\n",
    "# Reshape the output of the LabelEncoder to N-by-1 array\n",
    "reshape_le_tf = ReshapeArrayToN1()\n"
   ]
  },
  {
   "cell_type": "code",
   "execution_count": 5,
   "metadata": {},
   "outputs": [],
   "source": [
    "\n",
    "# Vector Assembler for x1 One Hot Encoder\n",
    "one_hot_encoder_tf = OneHotEncoder(sparse=False)\n",
    "\n",
    "# WORKAROUND: changed line 90 in offending 'preprocessing/data.py' file\n",
    "# from: class_name = \"{}\".format(self.init.im_class).split('.')[-1].replace('>','').replace(\"'\",'')\n",
    "# to: class_name = \"{}\".format(self.__init__.__class__.__name__).split('.')[-1].replace('>','').replace(\"'\",'')\n",
    "one_hot_encoder_tf.mlinit(prior_tf = label_encoder_tf, \n",
    "                          output_features = '{}_label_one_hot_encoded'.format(categorical_features[0]))\n",
    "\n",
    "one_hot_encoder_pipeline_x0 = Pipeline([\n",
    "                                         (feature_extractor_tf.name, feature_extractor_tf),\n",
    "                                         (label_encoder_tf.name, label_encoder_tf),\n",
    "                                         (reshape_le_tf.name, reshape_le_tf),\n",
    "                                         (one_hot_encoder_tf.name, one_hot_encoder_tf)\n",
    "                                        ])"
   ]
  },
  {
   "cell_type": "code",
   "execution_count": 6,
   "metadata": {},
   "outputs": [
    {
     "name": "stderr",
     "output_type": "stream",
     "text": [
      "/home/nm16667/anaconda3/lib/python3.6/site-packages/mleap/sklearn/preprocessing/data.py:390: DataConversionWarning: A column-vector y was passed when a 1d array was expected. Please change the shape of y to (n_samples, ), for example using ravel().\n",
      "  y = column_or_1d(X, warn=True)\n"
     ]
    }
   ],
   "source": [
    "\n",
    "one_hot_encoder_pipeline_x0.mlinit()\n",
    "one_hot_encoder_pipeline_x0.fit_transform(data)\n",
    "one_hot_encoder_pipeline_x0.serialize_to_bundle('/tmp', 'mleap-scikit-test-pipeline', init=True)\n"
   ]
  },
  {
   "cell_type": "code",
   "execution_count": null,
   "metadata": {},
   "outputs": [],
   "source": []
  }
 ],
 "metadata": {
  "kernelspec": {
   "display_name": "Python 3",
   "language": "python",
   "name": "python3"
  },
  "language_info": {
   "codemirror_mode": {
    "name": "ipython",
    "version": 3
   },
   "file_extension": ".py",
   "mimetype": "text/x-python",
   "name": "python",
   "nbconvert_exporter": "python",
   "pygments_lexer": "ipython3",
   "version": "3.6.5"
  }
 },
 "nbformat": 4,
 "nbformat_minor": 2
}
